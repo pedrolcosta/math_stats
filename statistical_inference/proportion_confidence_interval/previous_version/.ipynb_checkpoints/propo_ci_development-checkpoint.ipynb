{
 "cells": [
  {
   "cell_type": "code",
   "execution_count": 45,
   "metadata": {},
   "outputs": [],
   "source": [
    "# importing the library - importando a biblioteca \n",
    "import pandas as pd\n",
    "import numpy as np\n",
    "\n",
    "# loading the confidence level dataframe to a standard normal distribution - carregando o data frame do nível de confiança para uma distribuição normal padrão\n",
    "full = pd.DataFrame({'indices':[0.0, 0.01, 0.02, 0.03, 0.04, 0.05, 0.06, 0.07, 0.08, 0.09, 0.1, 0.11, 0.12, 0.13, 0.14, 0.15, 0.16, 0.17, 0.18, 0.19,\n",
    "                         0.2, 0.21, 0.22, 0.23, 0.24, 0.25, 0.26, 0.27, 0.28, 0.29, 0.3, 0.31, 0.32, 0.33, 0.34, 0.35, 0.36, 0.37, 0.38, 0.39,\n",
    "                         0.4, 0.41, 0.42, 0.43, 0.44, 0.45, 0.46, 0.47, 0.48, 0.49, 0.5, 0.51, 0.52, 0.53, 0.54, 0.55, 0.56, 0.57, 0.58, 0.59,\n",
    "                         0.6, 0.61, 0.62, 0.63, 0.64, 0.65, 0.66, 0.67, 0.68, 0.69, 0.7, 0.71, 0.72, 0.73, 0.74, 0.75, 0.76, 0.77, 0.78, 0.79,\n",
    "                         0.8, 0.81, 0.82, 0.83, 0.84, 0.85, 0.86, 0.87, 0.88, 0.89, 0.9, 0.91, 0.92, 0.93, 0.94, 0.95, 0.96, 0.97, 0.98, 0.99,\n",
    "                         1.0, 1.01, 1.02, 1.03, 1.04, 1.05, 1.06, 1.07, 1.08, 1.09, 1.1, 1.11, 1.12, 1.13, 1.14, 1.15, 1.16, 1.17, 1.18, 1.19,\n",
    "                         1.2, 1.21, 1.22, 1.23, 1.24, 1.25, 1.26, 1.27, 1.28, 1.29, 1.3, 1.31, 1.32, 1.33, 1.34, 1.35, 1.36, 1.37, 1.38, 1.39,\n",
    "                         1.4, 1.41, 1.42, 1.43, 1.44, 1.45, 1.46, 1.47, 1.48, 1.49, 1.5, 1.51, 1.52, 1.53, 1.54, 1.55, 1.56, 1.57, 1.58, 1.59,\n",
    "                         1.6, 1.61, 1.62, 1.63, 1.64, 1.65, 1.66, 1.67, 1.68, 1.69, 1.7, 1.71, 1.72, 1.73, 1.74, 1.75, 1.76, 1.77, 1.78, 1.79,\n",
    "                         1.8, 1.81, 1.82, 1.83, 1.84, 1.85, 1.86, 1.87, 1.88, 1.89, 1.9, 1.91, 1.92, 1.93, 1.94, 1.95, 1.96, 1.97, 1.98, 1.99,\n",
    "                         2.0, 2.01, 2.02, 2.03, 2.04, 2.05, 2.06, 2.07, 2.08, 2.09, 2.1, 2.11, 2.12, 2.13, 2.14, 2.15, 2.16, 2.17, 2.18, 2.19,\n",
    "                         2.2, 2.21, 2.22, 2.23, 2.24, 2.25, 2.26, 2.27, 2.28, 2.29, 2.3, 2.31, 2.32, 2.33, 2.34, 2.35, 2.36, 2.37, 2.38, 2.39,\n",
    "                         2.4, 2.41, 2.42, 2.43, 2.44, 2.45, 2.46, 2.47, 2.48, 2.49, 2.5, 2.51, 2.52, 2.53, 2.54, 2.55, 2.56, 2.57, 2.58, 2.59,\n",
    "                         2.6, 2.61, 2.62, 2.63, 2.64, 2.65, 2.66, 2.67, 2.68, 2.69, 2.7, 2.71, 2.72, 2.73, 2.74, 2.75, 2.76, 2.77, 2.78, 2.79,\n",
    "                         2.8, 2.81, 2.82, 2.83, 2.84, 2.85, 2.86, 2.87, 2.88, 2.89, 2.9, 2.91, 2.92, 2.93, 2.94, 2.95, 2.96, 2.97, 2.98, 2.99,\n",
    "                         3.0, 3.01, 3.02, 3.03, 3.04, 3.05, 3.06, 3.07, 3.08, 3.09, 3.1, 3.11, 3.12, 3.13, 3.14, 3.15, 3.16, 3.17, 3.18, 3.19,\n",
    "                         3.2, 3.21, 3.22, 3.23, 3.24, 3.25, 3.26, 3.27, 3.28, 3.29, 3.3, 3.31, 3.32, 3.33, 3.34, 3.35, 3.36, 3.37, 3.38, 3.39,\n",
    "                         3.4, 3.41, 3.42, 3.43, 3.44, 3.45, 3.46, 3.47, 3.48, 3.49, 3.5, 3.51, 3.52, 3.53, 3.54, 3.55, 3.56, 3.57, 3.58, 3.59], \n",
    "                'dados':[0.0000, 0.0040, 0.0080, 0.0120, 0.0160, 0.0199, 0.0239, 0.0279, 0.0319, 0.0359, 0.0398, 0.0438, 0.0478, 0.0517, 0.0557, 0.0596, 0.0636, 0.0675, 0.0714, 0.0753,\n",
    "                 0.0793, 0.0832, 0.0871, 0.0910, 0.0948, 0.0987, 0.1026, 0.1064, 0.1103, 0.1141, 0.1179, 0.1217, 0.1255, 0.1293, 0.1331, 0.1368, 0.1406, 0.1443, 0.1480, 0.1517,\n",
    "                 0.1554, 0.1591, 0.1628, 0.1664, 0.1700, 0.1736, 0.1772, 0.1808, 0.1844, 0.1879, 0.1915, 0.1950, 0.1985, 0.2019, 0.2054, 0.2088, 0.2123, 0.2157, 0.2190, 0.2224,\n",
    "                 0.2257, 0.2291, 0.2324, 0.2357, 0.2389, 0.2422, 0.2454, 0.2486, 0.2517, 0.2549, 0.2580, 0.2611, 0.2642, 0.2673, 0.2704, 0.2734, 0.2764, 0.2794, 0.2823, 0.2852,\n",
    "                 0.2881, 0.2910, 0.2939, 0.2967, 0.2995, 0.3023, 0.3051, 0.3078, 0.3106, 0.3133, 0.3159, 0.3186, 0.3212, 0.3238, 0.3264, 0.3289, 0.3315, 0.3340, 0.3365, 0.3389,\n",
    "                 0.3413, 0.3438, 0.3461, 0.3485, 0.3508, 0.3531, 0.3554, 0.3577, 0.3599, 0.3621, 0.3643, 0.3665, 0.3686, 0.3708, 0.3729, 0.3749, 0.3770, 0.3790, 0.3810, 0.3830,\n",
    "                 0.3849, 0.3869, 0.3888, 0.3907, 0.3925, 0.3944, 0.3962, 0.3980, 0.3997, 0.4015, 0.4032, 0.4049, 0.4066, 0.4082, 0.4099, 0.4115, 0.4131, 0.4147, 0.4162, 0.4177,\n",
    "                 0.4192, 0.4207, 0.4222, 0.4236, 0.4251, 0.4265, 0.4279, 0.4292, 0.4306, 0.4319, 0.4332, 0.4345, 0.4357, 0.4370, 0.4382, 0.4394, 0.4406, 0.4418, 0.4429, 0.4441,\n",
    "                 0.4452, 0.4463, 0.4474, 0.4484, 0.4495, 0.4505, 0.4515, 0.4525, 0.4535, 0.4545, 0.4554, 0.4564, 0.4573, 0.4582, 0.4591, 0.4599, 0.4608, 0.4616, 0.4625, 0.4633,\n",
    "                 0.4641, 0.4649, 0.4656, 0.4664, 0.4671, 0.4678, 0.4686, 0.4693, 0.4699, 0.4706, 0.4713, 0.4719, 0.4726, 0.4732, 0.4738, 0.4744, 0.4750, 0.4756, 0.4761, 0.4767,\n",
    "                 0.4772, 0.4778, 0.4783, 0.4788, 0.4793, 0.4798, 0.4803, 0.4808, 0.4812, 0.4817, 0.4821, 0.4826, 0.4830, 0.4834, 0.4838, 0.4842, 0.4846, 0.4850, 0.4854, 0.4857,\n",
    "                 0.4861, 0.4864, 0.4868, 0.4871, 0.4875, 0.4878, 0.4881, 0.4884, 0.4887, 0.4890, 0.4893, 0.4896, 0.4898, 0.4901, 0.4904, 0.4906, 0.4909, 0.4911, 0.4913, 0.4916,\n",
    "                 0.4918, 0.4920, 0.4922, 0.4925, 0.4927, 0.4929, 0.4931, 0.4932, 0.4934, 0.4936, 0.4938, 0.4940, 0.4941, 0.4943, 0.4945, 0.4946, 0.4948, 0.4949, 0.4951, 0.4952,\n",
    "                 0.4953, 0.4955, 0.4956, 0.4957, 0.4959, 0.4960, 0.4961, 0.4962, 0.4963, 0.4964, 0.4965, 0.4966, 0.4967, 0.4968, 0.4969, 0.4970, 0.4971, 0.4972, 0.4973, 0.4974,\n",
    "                 0.4974, 0.4975, 0.4976, 0.4977, 0.4977, 0.4978, 0.4979, 0.4979, 0.4980, 0.4981, 0.4981, 0.4982, 0.4982, 0.4983, 0.4984, 0.4984, 0.4985, 0.4985, 0.4986, 0.4986,\n",
    "                 0.4987, 0.4987, 0.4987, 0.4988, 0.4988, 0.4989, 0.4989, 0.4989, 0.4990, 0.4990, 0.4990, 0.4991, 0.4991, 0.4991, 0.4992, 0.4992, 0.4992, 0.4992, 0.4993, 0.4993,\n",
    "                 0.4993, 0.4993, 0.4994, 0.4994, 0.4994, 0.4994, 0.4994, 0.4995, 0.4995, 0.4995, 0.4995, 0.4995, 0.4995, 0.4996, 0.4996, 0.4996, 0.4996, 0.4996, 0.4996, 0.4997,\n",
    "                 0.4997, 0.4997, 0.4997, 0.4997, 0.4997, 0.4997, 0.4997, 0.4997, 0.4997, 0.4998, 0.4998, 0.4998, 0.4998, 0.4998, 0.4998, 0.4998, 0.4998, 0.4998, 0.4998, 0.4998]})\n",
    "\n",
    "# loading the confidence level dataframe to a standard normal distribution - carregando o data frame do nível de confiança para uma distribuição normal padrão\n",
    "normal = pd.DataFrame({'grau':[  90,   91,   92,   93,   94,   95,   96,   97,   98,   99],\n",
    "                       'za_2':[1.64, 1.69, 1.75, 1.81, 1.88, 1.96, 2.05, 2.17, 2.33, 2.58]})\n",
    "\n",
    "# creating the class - criando a classe\n",
    "class Prop_ci():\n",
    "    def __init__(self, ns, ss, tl):\n",
    "        self.ns = ns                    # number of success case - amostra de sucesso\n",
    "        self.ss = ss                    # sample size - tamanho da amostra\n",
    "        self.tl = tl                    # trust level - nível de confiança\n",
    "        \n",
    "        # calculation of the proportion from the total sample for 'x' number of success case - cálculo da proporção da amostra total para o número 'x' de casos de sucesso\n",
    "        self.ps = self.ns/self.ss\n",
    "        \n",
    "        # checking the condition of existence - verificando as condições de existência\n",
    "        if ((self.ss*self.ps <= 5) or (self.ss*(1 - self.ps) <= 5)):\n",
    "            print(\"Basic condition was not satisfied\")\n",
    "            print('n.p >= 5 -> {}*{} = {}'.format(self.ss, self.ps, self.ss*self.ps))\n",
    "            print(\"n.(1 - p) >= 5 -> {}*(1 - {}) = {}\".format(self.ss, self.ps, self.ss*(1 - self.ps)))\n",
    "        \n",
    "        else:\n",
    "        \n",
    "            # determination os the critical value for the standard normal distribution table - determinação do valor crítico para a tabela da distribuição normal padrão determination os the corresponding 'z' for the standard normal distribution - determinação do 't-student' correspondente para a distribuição normal padrão\n",
    "            tl_adap = int(self.tl/200*10000)\n",
    "            count=-1\n",
    "            for el in full['dados']*10000:\n",
    "                count+=1\n",
    "                if (el >= (tl_adap-5))&(el <= (tl_adap+5)):\n",
    "                    self.z_eq = full.iloc[count, 0]\n",
    "            \n",
    "        # determination of the margin of error for population standard deviation not know - determinação da margem de erro para desvio padrão populacional não conhecido\n",
    "        self.me = self.z_eq*((self.ps*(1-self.ps))/self.ss)**(1/2)\n",
    "        \n",
    "        # determination of the interval estimate for the sample mean with a known population standard deviation - determinação da estimativa intervalar para a média amostral com o desvio padrão populacional conhecido\n",
    "        self.ie = [(self.ps-self.me)*100, (self.ps+self.me)*100]\n",
    "        \n",
    "        return\n",
    "        \n",
    "    def describe(self):\n",
    "        print('number of success case - número de casos de sucesso = {}'.format(self.ns))\n",
    "        print('sample size - tamanho da amostral = {}'.format(self.ss))\n",
    "        print('trust level - nível de confiança = {}'.format(self.tl))\n",
    "        print(\"critical value (z(a/2)) - valor crítico (z(a/2)) = {}\".format(self.z_eq))\n",
    "        print('margin of error - margem de erro = {:.4f}'.format(self.me))\n",
    "        print('interval estimate for the mean of proportion from the total sample (%) - estimativa intervalar para a média proporcional (%) = {}'.format(self.ie))\n",
    "        \n",
    "        return\n",
    "            "
   ]
  },
  {
   "cell_type": "code",
   "execution_count": 46,
   "metadata": {},
   "outputs": [],
   "source": [
    "ex1 = Prop_ci(7, 125, 80)"
   ]
  },
  {
   "cell_type": "code",
   "execution_count": 47,
   "metadata": {},
   "outputs": [
    {
     "data": {
      "text/plain": [
       "0.026322975150996894"
      ]
     },
     "execution_count": 47,
     "metadata": {},
     "output_type": "execute_result"
    }
   ],
   "source": [
    "ex1.me"
   ]
  },
  {
   "cell_type": "code",
   "execution_count": 48,
   "metadata": {},
   "outputs": [
    {
     "data": {
      "text/plain": [
       "[2.9677024849003106, 8.23229751509969]"
      ]
     },
     "execution_count": 48,
     "metadata": {},
     "output_type": "execute_result"
    }
   ],
   "source": [
    "ex1.ie"
   ]
  },
  {
   "cell_type": "code",
   "execution_count": 49,
   "metadata": {},
   "outputs": [
    {
     "name": "stdout",
     "output_type": "stream",
     "text": [
      "number of success case - número de casos de sucesso = 7\n",
      "sample size - tamanho da amostral = 125\n",
      "trust level - nível de confiança = 80\n",
      "critical value (z(a/2)) - valor crítico (z(a/2)) = 1.28\n",
      "margin of error - margem de erro = 0.0263\n",
      "interval estimate for the mean of proportion from the total sample (%) - estimativa intervalar para a média proporcional (%) = [2.9677024849003106, 8.23229751509969]\n"
     ]
    }
   ],
   "source": [
    "ex1.describe()"
   ]
  },
  {
   "cell_type": "code",
   "execution_count": 29,
   "metadata": {},
   "outputs": [
    {
     "data": {
      "text/plain": [
       "357.50000000000006"
      ]
     },
     "execution_count": 29,
     "metadata": {},
     "output_type": "execute_result"
    }
   ],
   "source": [
    "650*0.55\n"
   ]
  },
  {
   "cell_type": "code",
   "execution_count": null,
   "metadata": {},
   "outputs": [],
   "source": []
  },
  {
   "cell_type": "code",
   "execution_count": 31,
   "metadata": {},
   "outputs": [],
   "source": [
    "ex5 = Prop_ci(358, 650, 98)"
   ]
  },
  {
   "cell_type": "code",
   "execution_count": 32,
   "metadata": {},
   "outputs": [
    {
     "name": "stdout",
     "output_type": "stream",
     "text": [
      "number of success case - número de casos de sucesso = 358\n",
      "sample size - tamanho da amostral = 650\n",
      "trust level - nível de confiança = 98\n",
      "critical value (z(a/2)) - valor crítico (z(a/2)) = 2.34\n",
      "margin of error - margem de erro = 0.0457\n",
      "interval estimate for the mean of proportion from the total sample (%) - estimativa intervalar para a média proporcional (%) = [50.51152384423311, 59.64232230961305]\n"
     ]
    }
   ],
   "source": [
    "ex5.describe()"
   ]
  },
  {
   "cell_type": "code",
   "execution_count": 33,
   "metadata": {},
   "outputs": [
    {
     "data": {
      "text/plain": [
       "20.0"
      ]
     },
     "execution_count": 33,
     "metadata": {},
     "output_type": "execute_result"
    }
   ],
   "source": [
    "50*0.4\n"
   ]
  },
  {
   "cell_type": "code",
   "execution_count": 36,
   "metadata": {},
   "outputs": [],
   "source": [
    "ex5b = Prop_ci(20, 50, 98)"
   ]
  },
  {
   "cell_type": "code",
   "execution_count": 37,
   "metadata": {},
   "outputs": [
    {
     "name": "stdout",
     "output_type": "stream",
     "text": [
      "number of success case - número de casos de sucesso = 20\n",
      "sample size - tamanho da amostral = 50\n",
      "trust level - nível de confiança = 98\n",
      "critical value (z(a/2)) - valor crítico (z(a/2)) = 2.34\n",
      "margin of error - margem de erro = 0.1621\n",
      "interval estimate for the mean of proportion from the total sample (%) - estimativa intervalar para a média proporcional (%) = [23.788004441155312, 56.2119955588447]\n"
     ]
    }
   ],
   "source": [
    "ex5b.describe()"
   ]
  },
  {
   "cell_type": "code",
   "execution_count": 41,
   "metadata": {},
   "outputs": [
    {
     "data": {
      "text/plain": [
       "280.0"
      ]
     },
     "execution_count": 41,
     "metadata": {},
     "output_type": "execute_result"
    }
   ],
   "source": [
    "500*0.56"
   ]
  },
  {
   "cell_type": "code",
   "execution_count": 43,
   "metadata": {},
   "outputs": [],
   "source": [
    "ex5c = Prop_ci(280, 500, 98)"
   ]
  },
  {
   "cell_type": "code",
   "execution_count": 44,
   "metadata": {},
   "outputs": [
    {
     "name": "stdout",
     "output_type": "stream",
     "text": [
      "number of success case - número de casos de sucesso = 280\n",
      "sample size - tamanho da amostral = 500\n",
      "trust level - nível de confiança = 98\n",
      "critical value (z(a/2)) - valor crítico (z(a/2)) = 2.34\n",
      "margin of error - margem de erro = 0.0519\n",
      "interval estimate for the mean of proportion from the total sample (%) - estimativa intervalar para a média proporcional (%) = [50.80541081508846, 61.19458918491155]\n"
     ]
    }
   ],
   "source": [
    "ex5c.describe()"
   ]
  },
  {
   "cell_type": "code",
   "execution_count": null,
   "metadata": {},
   "outputs": [],
   "source": []
  }
 ],
 "metadata": {
  "kernelspec": {
   "display_name": "Python 3",
   "language": "python",
   "name": "python3"
  },
  "language_info": {
   "codemirror_mode": {
    "name": "ipython",
    "version": 3
   },
   "file_extension": ".py",
   "mimetype": "text/x-python",
   "name": "python",
   "nbconvert_exporter": "python",
   "pygments_lexer": "ipython3",
   "version": "3.7.6"
  }
 },
 "nbformat": 4,
 "nbformat_minor": 4
}

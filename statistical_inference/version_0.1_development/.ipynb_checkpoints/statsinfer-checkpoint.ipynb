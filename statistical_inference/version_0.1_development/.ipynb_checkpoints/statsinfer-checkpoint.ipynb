{
 "cells": [
  {
   "cell_type": "code",
   "execution_count": 2,
   "metadata": {},
   "outputs": [
    {
     "data": {
      "text/html": [
       "<div>\n",
       "<style scoped>\n",
       "    .dataframe tbody tr th:only-of-type {\n",
       "        vertical-align: middle;\n",
       "    }\n",
       "\n",
       "    .dataframe tbody tr th {\n",
       "        vertical-align: top;\n",
       "    }\n",
       "\n",
       "    .dataframe thead th {\n",
       "        text-align: right;\n",
       "    }\n",
       "</style>\n",
       "<table border=\"1\" class=\"dataframe\">\n",
       "  <thead>\n",
       "    <tr style=\"text-align: right;\">\n",
       "      <th></th>\n",
       "      <th>grau</th>\n",
       "      <th>alfa</th>\n",
       "      <th>za_2</th>\n",
       "    </tr>\n",
       "  </thead>\n",
       "  <tbody>\n",
       "    <tr>\n",
       "      <th>0</th>\n",
       "      <td>90</td>\n",
       "      <td>0.10</td>\n",
       "      <td>1.64</td>\n",
       "    </tr>\n",
       "    <tr>\n",
       "      <th>1</th>\n",
       "      <td>91</td>\n",
       "      <td>0.09</td>\n",
       "      <td>1.69</td>\n",
       "    </tr>\n",
       "    <tr>\n",
       "      <th>2</th>\n",
       "      <td>92</td>\n",
       "      <td>0.08</td>\n",
       "      <td>1.75</td>\n",
       "    </tr>\n",
       "    <tr>\n",
       "      <th>3</th>\n",
       "      <td>93</td>\n",
       "      <td>0.07</td>\n",
       "      <td>1.81</td>\n",
       "    </tr>\n",
       "    <tr>\n",
       "      <th>4</th>\n",
       "      <td>94</td>\n",
       "      <td>0.06</td>\n",
       "      <td>1.88</td>\n",
       "    </tr>\n",
       "    <tr>\n",
       "      <th>5</th>\n",
       "      <td>95</td>\n",
       "      <td>0.05</td>\n",
       "      <td>1.96</td>\n",
       "    </tr>\n",
       "    <tr>\n",
       "      <th>6</th>\n",
       "      <td>96</td>\n",
       "      <td>0.04</td>\n",
       "      <td>2.05</td>\n",
       "    </tr>\n",
       "    <tr>\n",
       "      <th>7</th>\n",
       "      <td>97</td>\n",
       "      <td>0.03</td>\n",
       "      <td>2.17</td>\n",
       "    </tr>\n",
       "    <tr>\n",
       "      <th>8</th>\n",
       "      <td>98</td>\n",
       "      <td>0.02</td>\n",
       "      <td>2.33</td>\n",
       "    </tr>\n",
       "    <tr>\n",
       "      <th>9</th>\n",
       "      <td>99</td>\n",
       "      <td>0.01</td>\n",
       "      <td>2.58</td>\n",
       "    </tr>\n",
       "  </tbody>\n",
       "</table>\n",
       "</div>"
      ],
      "text/plain": [
       "   grau  alfa  za_2\n",
       "0    90  0.10  1.64\n",
       "1    91  0.09  1.69\n",
       "2    92  0.08  1.75\n",
       "3    93  0.07  1.81\n",
       "4    94  0.06  1.88\n",
       "5    95  0.05  1.96\n",
       "6    96  0.04  2.05\n",
       "7    97  0.03  2.17\n",
       "8    98  0.02  2.33\n",
       "9    99  0.01  2.58"
      ]
     },
     "execution_count": 2,
     "metadata": {},
     "output_type": "execute_result"
    }
   ],
   "source": [
    "import pandas as pd\n",
    "import numpy as np\n",
    "\n",
    "data = {'grau':[90, 91, 92, 93, 94, 95, 96, 97, 98, 99],\n",
    "       'alfa':[0.1, 0.09, 0.08, 0.07, 0.06, 0.05, 0.04, 0.03, 0.02, 0.01],\n",
    "       'za_2': [1.64, 1.69, 1.75, 1.81, 1.88, 1.96, 2.05, 2.17, 2.33, 2.58]}\n",
    "nivel = pd.DataFrame(data)\n",
    "nivel"
   ]
  },
  {
   "cell_type": "code",
   "execution_count": 21,
   "metadata": {},
   "outputs": [
    {
     "name": "stdout",
     "output_type": "stream",
     "text": [
      "1.96\n",
      "3\n",
      "120\n",
      "0.5367681063550628\n"
     ]
    }
   ],
   "source": [
    "nc = 95\n",
    "dpp = desvio_padrao_populacional = 3\n",
    "mp = 350\n",
    "\n",
    "n = numero_de_latas = 120\n",
    "ma = media_amostral = 346\n",
    "\n",
    "count = -1\n",
    "for el in nivel['grau']:\n",
    "    count += 1\n",
    "    if el == nc:\n",
    "        z_eq = nivel.iloc[count, 2]\n",
    "print(z_eq)\n",
    "\n",
    "# determinação da margem de erro para desvio padrão populacional conhecido\n",
    "\n",
    "me = margem_de_erro = z_eq*dpp/(n**(1/2))\n",
    "print(me)\n"
   ]
  },
  {
   "cell_type": "code",
   "execution_count": 26,
   "metadata": {},
   "outputs": [
    {
     "name": "stdout",
     "output_type": "stream",
     "text": [
      "1.64\n",
      "0.5500727224649482\n",
      "[22.349927277535052, 23.450072722464945]\n"
     ]
    }
   ],
   "source": [
    "nc = 90\n",
    "dpp = desvio_padrao_populacional = 1.5\n",
    "#mp = none\n",
    "\n",
    "n = numero_de_latas = 20\n",
    "ma = media_amostral = estimativa_pontual = 22.9\n",
    "\n",
    "count = -1\n",
    "for el in nivel['grau']:\n",
    "    count += 1\n",
    "    if el == nc:\n",
    "        z_eq = nivel.iloc[count, 2]\n",
    "print(z_eq)\n",
    "\n",
    "# determinação da margem de erro para desvio padrão populacional conhecido\n",
    "me = margem_de_erro = z_eq*dpp/(n**(1/2))\n",
    "print(me)\n",
    "\n",
    "# determinação da estimativa intervalar\n",
    "ei = [ma-me, ma+me]\n",
    "print(ei)\n"
   ]
  },
  {
   "cell_type": "code",
   "execution_count": 35,
   "metadata": {},
   "outputs": [
    {
     "name": "stdout",
     "output_type": "stream",
     "text": [
      "1.75\n",
      "75.83333333333333\n",
      "[3426.3888888888887, 3578.0555555555557]\n",
      "3502.222222222222\n"
     ]
    }
   ],
   "source": [
    "nc = 92\n",
    "dpp = desvio_padrao_populacional = 130\n",
    "\n",
    "\n",
    "n = tamanho_amostral = 9\n",
    "ma = media_amostral = estimativa_pontual = (3810+3690+3350+3400+3320+3250+3430+3600+3670)/n\n",
    "\n",
    "count = -1\n",
    "for el in nivel['grau']:\n",
    "    count += 1\n",
    "    if el == nc:\n",
    "        z_eq = nivel.iloc[count, 2]\n",
    "print(z_eq)\n",
    "\n",
    "# determinação da margem de erro para desvio padrão populacional conhecido\n",
    "me = margem_de_erro = z_eq*dpp/(n**(1/2))\n",
    "print(me)\n",
    "\n",
    "# determinação da estimativa intervalar\n",
    "ei = [ma-me, ma+me]\n",
    "print(ei)\n",
    "\n",
    "print(ma)"
   ]
  },
  {
   "cell_type": "code",
   "execution_count": 42,
   "metadata": {},
   "outputs": [],
   "source": [
    "# importing the library - importando a biblioteca \n",
    "import pandas as pd\n",
    "import numpy as np\n",
    "\n",
    "# loading the confidence level dataframe to a standard normal distribution - carregando o data frame do nível de confiança para uma distribuição normal padrão\n",
    "data = {'grau':[90, 91, 92, 93, 94, 95, 96, 97, 98, 99],\n",
    "       'alfa':[0.1, 0.09, 0.08, 0.07, 0.06, 0.05, 0.04, 0.03, 0.02, 0.01],\n",
    "       'za_2': [1.64, 1.69, 1.75, 1.81, 1.88, 1.96, 2.05, 2.17, 2.33, 2.58]}\n",
    "nivel = pd.DataFrame(data)\n",
    "nivel\n",
    "\n",
    "# creating the class - criando a classe\n",
    "class Statinfer():\n",
    "    def __init__(self, sm, ss):\n",
    "        self.sm = sm # sample mean\n",
    "        self.ss = ss # sample size - tamanho da amostra\n",
    "        return\n",
    "\n",
    "    def za_2(self):\n",
    "        self.count = -1\n",
    "        for el in nivel['grau']:\n",
    "            self.count += 1\n",
    "            if el == self.nc:\n",
    "                self.z_eq = nivel.iloc[count, 2]\n",
    "                return self.z_eq\n",
    "    # determination of the margin of error for known population standard deviation - determinação da margem de erro para desvio padrão populacional conhecido\n",
    "    def merro (self, tl, psd):\n",
    "        self.tl = tl        # trust level - nível de confiança\n",
    "        self.psd = psd      # population standard deviation\n",
    "        me = self.z_eq*self.dpp/(self.sm**(1/2))\n",
    "        return me"
   ]
  },
  {
   "cell_type": "code",
   "execution_count": null,
   "metadata": {},
   "outputs": [],
   "source": []
  }
 ],
 "metadata": {
  "kernelspec": {
   "display_name": "Python 3",
   "language": "python",
   "name": "python3"
  },
  "language_info": {
   "codemirror_mode": {
    "name": "ipython",
    "version": 3
   },
   "file_extension": ".py",
   "mimetype": "text/x-python",
   "name": "python",
   "nbconvert_exporter": "python",
   "pygments_lexer": "ipython3",
   "version": "3.7.6"
  }
 },
 "nbformat": 4,
 "nbformat_minor": 4
}

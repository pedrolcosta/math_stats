{
 "cells": [
  {
   "cell_type": "code",
   "execution_count": 130,
   "metadata": {},
   "outputs": [],
   "source": [
    "# importing the library - importando a biblioteca \n",
    "import pandas as pd\n",
    "import numpy as np\n",
    "\n",
    "# loading the confidence level dataframe to a standard normal distribution - carregando o data frame do nível de confiança para uma distribuição normal padrão\n",
    "data = {'grau':[90, 91, 92, 93, 94, 95, 96, 97, 98, 99],\n",
    "       'alfa':[0.1, 0.09, 0.08, 0.07, 0.06, 0.05, 0.04, 0.03, 0.02, 0.01],\n",
    "       'za_2': [1.64, 1.69, 1.75, 1.81, 1.88, 1.96, 2.05, 2.17, 2.33, 2.58]}\n",
    "nivel = pd.DataFrame(data)\n",
    "nivel\n",
    "\n",
    "# creating the class - criando a classe\n",
    "class Statinfer():\n",
    "    def __init__(self, sm, ss, tl, psd):\n",
    "        self.sm = sm                    # sample mean - média amostral\n",
    "        self.ss = ss                    # sample size - tamanho da amostra\n",
    "        self.tl = tl                    # trust level - nível de confiança\n",
    "        self.psd = psd                  # population standard deviation - desvio padrão populacional\n",
    "        \n",
    "        # determination os the corresponding 'z' for the standard normal distribution table - determinação do 'z' correspondente para a tabela da distribuição normal padrão\n",
    "        count = -1\n",
    "        for el in nivel['grau']:\n",
    "            count += 1\n",
    "            if el == self.tl:\n",
    "                self.z_eq = nivel.iloc[count, 2]\n",
    "\n",
    "        # determination of the margin of error for known population standard deviation - determinação da margem de erro para desvio padrão populacional conhecido\n",
    "        self.stdkme = self.z_eq*self.psd/(self.ss**(1/2))\n",
    "        \n",
    "        # determination of the interval estimate for the sample mean with a known population standard deviation - determinação da estimativa intervalar para a média amostral com o desvio padrão populacional conhecido\n",
    "        self.iestdk = [self.sm-self.stdkme, self.sm+self.stdkme]\n",
    "        return\n",
    "        \n",
    "    # summary of everything - resumo de tudo\n",
    "    def describe(self):\n",
    "        print('sample mean - média amostral = {}'.format(self.sm))\n",
    "        print('sample size - tamanho da amostral = {}'.format(self.ss))\n",
    "        print('trust level - nível de confiança = {}'.format(self.tl))\n",
    "        print('population standard deviation - desvio padrão populacional = {}'.format(self.psd))\n",
    "        print(\"corresponding 'z' - z correspondente = {}\".format(self.z_eq))\n",
    "        print('margin of error for known population std dev - margem de erro para desv. padrão conhecido = {}'.format(self.stdkme))\n",
    "        print('interval estimate for the sample mean - stimativa intervalar para a média amostral = {}'.format(self.iestdk))\n",
    "        return\n"
   ]
  },
  {
   "cell_type": "code",
   "execution_count": 134,
   "metadata": {},
   "outputs": [],
   "source": [
    "ex2 = Statinfer(346, 120, 95, 3)"
   ]
  },
  {
   "cell_type": "code",
   "execution_count": 136,
   "metadata": {},
   "outputs": [
    {
     "name": "stdout",
     "output_type": "stream",
     "text": [
      "sample mean - média amostral = 346\n",
      "sample size - tamanho da amostral = 120\n",
      "trust level - nível de confiança = 95\n",
      "population standard deviation - desvio padrão populacional = 3\n",
      "corresponding 'z' - z correspondente = 1.96\n",
      "margin of error for known population std dev - margem de erro para desv. padrão conhecido = 0.5367681063550628\n",
      "interval estimate for the sample mean - stimativa intervalar para a média amostral = [345.46323189364495, 346.53676810635505]\n"
     ]
    }
   ],
   "source": [
    "ex2.describe()"
   ]
  },
  {
   "cell_type": "code",
   "execution_count": 137,
   "metadata": {},
   "outputs": [
    {
     "data": {
      "text/plain": [
       "0.5367681063550628"
      ]
     },
     "execution_count": 137,
     "metadata": {},
     "output_type": "execute_result"
    }
   ],
   "source": [
    "ex2.stdkme"
   ]
  },
  {
   "cell_type": "code",
   "execution_count": 138,
   "metadata": {},
   "outputs": [
    {
     "data": {
      "text/plain": [
       "[345.46323189364495, 346.53676810635505]"
      ]
     },
     "execution_count": 138,
     "metadata": {},
     "output_type": "execute_result"
    }
   ],
   "source": [
    "ex2.iestdk"
   ]
  },
  {
   "cell_type": "code",
   "execution_count": null,
   "metadata": {},
   "outputs": [],
   "source": []
  }
 ],
 "metadata": {
  "kernelspec": {
   "display_name": "Python 3",
   "language": "python",
   "name": "python3"
  },
  "language_info": {
   "codemirror_mode": {
    "name": "ipython",
    "version": 3
   },
   "file_extension": ".py",
   "mimetype": "text/x-python",
   "name": "python",
   "nbconvert_exporter": "python",
   "pygments_lexer": "ipython3",
   "version": "3.7.6"
  }
 },
 "nbformat": 4,
 "nbformat_minor": 4
}
